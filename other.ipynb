{
 "cells": [
  {
   "cell_type": "code",
   "execution_count": null,
   "id": "7e41752a",
   "metadata": {},
   "outputs": [],
   "source": [
    "from os import getcwd\n",
    "from common.utils import * \n",
    "\n",
    "input_dir = getcwd() + '/img/input_samples/'\n",
    "outp_dir = getcwd() + '/img/output_fft_noise_images/'\n",
    "\n",
    "figsize = (10, 4)\n",
    "figsize_wide = (12, 4)\n",
    "figsize_narrow = (5, 5)\n",
    "figsize_default = (6.4, 4.8)\n",
    "cbar_loc = [0.9, 0.11, 0.02, 0.77]\n",
    "\n",
    "%matplotlib inline"
   ]
  },
  {
   "cell_type": "markdown",
   "id": "a67a7dfb",
   "metadata": {},
   "source": [
    "# Rubik's cube example"
   ]
  },
  {
   "cell_type": "code",
   "execution_count": null,
   "id": "32fd3312",
   "metadata": {},
   "outputs": [],
   "source": [
    "cube = open_img(input_dir + 'cube_1.png', no_mean=False)\n",
    "cube_fr = find_ft_2d(cube)\n",
    "\n",
    "shape = cube.shape\n",
    "y_size, x_size = shape\n",
    "xx, yy = freq_numbers_2d(shape)\n",
    "\n",
    "kernel = normalize(freq_sharp_round_filter_2d(xx, yy, 50, False))\n",
    "eps = 10 ** -10\n",
    "\n",
    "f, (ax1, ax2) = plt.subplots(1, 2, sharey=True, figsize=figsize)\n",
    "ax1.imshow(cube, cmap='gray', vmin=0, vmax=255)\n",
    "\n",
    "# Wrong scaling, but it gives a really interesting visual representation\n",
    "ax2.imshow(find_ift_2d(cube_fr * kernel).real, cmap='gray', \n",
    "           vmin=0, vmax=np.max(np.log(np.absolute(cube_fr + eps))))\n",
    "plt.show()"
   ]
  },
  {
   "cell_type": "code",
   "execution_count": null,
   "id": "73f33a74",
   "metadata": {},
   "outputs": [],
   "source": [
    "f, (ax1, ax2) = plt.subplots(1, 2, sharey=True, figsize=figsize)\n",
    "ax1.imshow(cube, cmap='gray', vmin=0, vmax=255)\n",
    "ax2.imshow(np.log(np.absolute(cube_fr)), cmap='gray')\n",
    "plt.show()"
   ]
  },
  {
   "cell_type": "markdown",
   "id": "2ece2d7d",
   "metadata": {},
   "source": [
    "# Woman photo example"
   ]
  },
  {
   "cell_type": "code",
   "execution_count": null,
   "id": "7ac6213e",
   "metadata": {},
   "outputs": [],
   "source": [
    "woman = open_img(input_dir + 'woman.jpeg', no_mean=False)\n",
    "woman_fr = find_ft_2d(woman)\n",
    "\n",
    "shape = woman.shape\n",
    "y_size, x_size = shape\n",
    "xx, yy = freq_numbers_2d(shape)\n",
    "x, y = freq_mesh_2d(shape)\n",
    "\n",
    "fps = 30\n",
    "seconds_num = 5\n",
    "\n",
    "radius = 300\n",
    "img_arr = [woman]\n",
    "kernel_arr = []\n",
    "\n",
    "for i in range(fps * seconds_num):\n",
    "    kernel = freq_sharp_round_filter_2d(xx, yy, i / fps / seconds_num * radius, False)\n",
    "    img_arr.append(find_ift_2d(woman_fr * kernel))"
   ]
  },
  {
   "cell_type": "code",
   "execution_count": null,
   "id": "4b403905",
   "metadata": {},
   "outputs": [],
   "source": [
    "# Animation performance is quite poor \n",
    "%matplotlib notebook\n",
    "\n",
    "fig = plt.figure(figsize=(8,8))\n",
    "im = plt.imshow(img_arr[0], interpolation='none', aspect='equal', cmap='gray')\n",
    "\n",
    "\n",
    "def animate_func(i): \n",
    "    im.set_array(img_arr[i])\n",
    "    return [im]\n",
    "\n",
    "\n",
    "anim = animation.FuncAnimation(\n",
    "    fig, \n",
    "    animate_func, \n",
    "    frames = seconds_num * fps,\n",
    "    # interval = 1000 / fps, # in ms\n",
    "    # repeat=True\n",
    ")\n",
    "\n",
    "# anim.save(output_dir + 'women.gif', writer='pillow')"
   ]
  },
  {
   "cell_type": "markdown",
   "id": "039f0340",
   "metadata": {},
   "source": [
    "# Phase correlation example\n"
   ]
  },
  {
   "cell_type": "code",
   "execution_count": null,
   "id": "0ed534f3",
   "metadata": {},
   "outputs": [],
   "source": [
    "%matplotlib inline\n",
    "\n",
    "f1 = open_img(input_dir + 'horse_1.png', no_mean=False)\n",
    "f2 = open_img(input_dir + 'horse_translated_1.png', no_mean=False)\n",
    "\n",
    "f1_freq = find_ft_2d(f1)\n",
    "f2_freq = find_ft_2d(f2)\n",
    "\n",
    "f1_magn = np.abs(f1_freq)\n",
    "f2_magn = np.abs(f2_freq)\n",
    "\n",
    "f1_phase = np.angle(f1_freq)\n",
    "f2_phase = np.angle(f2_freq)\n",
    "\n",
    "ncps = f1_freq * np.conj(f2_freq) / np.abs(f1_freq * f2_freq)\n",
    "ncps_magn = np.abs(ncps)\n",
    "img_shift = find_ift_2d(ncps)\n",
    "\n",
    "f, axes = show_images(f1, f2)\n",
    "plt.show()"
   ]
  },
  {
   "cell_type": "code",
   "execution_count": null,
   "id": "8f918f5b",
   "metadata": {},
   "outputs": [],
   "source": [
    "f, axes = show_images(np.log10(f1_magn), np.log10(f2_magn))\n",
    "plt.show()"
   ]
  },
  {
   "cell_type": "code",
   "execution_count": null,
   "id": "8159c092",
   "metadata": {},
   "outputs": [],
   "source": [
    "f, axes = show_images(f1_phase, f2_phase)\n",
    "plt.show()"
   ]
  },
  {
   "cell_type": "code",
   "execution_count": null,
   "id": "20bc16ab",
   "metadata": {},
   "outputs": [],
   "source": [
    "f, axes = show_images(img_shift, figsize=figsize_narrow)\n",
    "plt.show()"
   ]
  },
  {
   "cell_type": "code",
   "execution_count": null,
   "id": "b5060519",
   "metadata": {},
   "outputs": [],
   "source": [
    "ind = np.unravel_index(np.argmax(img_shift, axis=None), img_shift.shape)\n",
    "x_shift, y_shift = [i - j for i, j in zip(img_shift.shape, ind)]\n",
    "\n",
    "print(f'X shift = {x_shift}')\n",
    "print(f'Y shift = {y_shift}')"
   ]
  },
  {
   "cell_type": "markdown",
   "id": "633050b3",
   "metadata": {},
   "source": [
    "# Pink noise shifting in frequency space"
   ]
  },
  {
   "cell_type": "code",
   "execution_count": null,
   "id": "5df283c4",
   "metadata": {},
   "outputs": [],
   "source": [
    "# Shift values\n",
    "shape = (256, 256)\n",
    "y_size, x_size = shape\n",
    "yy, xx = freq_numbers_2d(shape)\n",
    "x, y = freq_mesh_2d(shape)\n",
    "dx, dy = 50, 25\n",
    "\n",
    "# Generating cloud image\n",
    "whitenoise = np.random.normal(0, 1, (y_size, x_size))\n",
    "noise_ft = find_ft_2d(whitenoise)\n",
    "kernel = freq_pink_filter_2d(xx, yy, factor=2)\n",
    "\n",
    "pink_noise_ft = noise_ft * kernel\n",
    "pink_noise = find_ift_2d(pink_noise_ft)\n",
    "pink_noise = normalize_img(pink_noise)\n",
    "shift = np.exp(-1j * 2 * np.pi  * (x * dx / x_size + y * dy / y_size))\n",
    "\n",
    "# Apply the phase shift along both axes\n",
    "f_freq_shifted = pink_noise_ft * shift\n",
    "shifted_pink_noise = find_ift_2d(f_freq_shifted)\n",
    "shifted_pink_noise = normalize(shifted_pink_noise)\n",
    "\n",
    "f, ax = show_images(pink_noise, shifted_pink_noise)\n",
    "plt.show()"
   ]
  },
  {
   "cell_type": "code",
   "execution_count": null,
   "id": "97589205",
   "metadata": {},
   "outputs": [],
   "source": [
    "%matplotlib notebook\n",
    "\n",
    "# Shift values\n",
    "dx, dy = 200, 0\n",
    "\n",
    "# Shift values per one frame\n",
    "fps = 30\n",
    "seconds_num = 5\n",
    "dxx = dx / fps / seconds_num\n",
    "dyy = dy / fps / seconds_num\n",
    "\n",
    "# Generating cloud image\n",
    "whitenoise = np.random.normal(0, 1, shape)\n",
    "whitenoise_ft = find_ft_2d(whitenoise)\n",
    "kernel = freq_pink_filter_2d(xx, yy, factor=2)\n",
    "pink_ft = whitenoise_ft * kernel\n",
    "pink_noise = normalize_img(find_ift_2d(pink_ft))\n",
    "shift = np.exp(-1j * 2 * np.pi  * (x * dxx / x_size + y * dyy / y_size));\n",
    "\n",
    "snapshots_freq = [pink_ft]\n",
    "snapshots_spatial = [pink_noise]\n",
    "for _ in range(fps * seconds_num):\n",
    "    # print(np.sum(np.absolute(snapshots_freq[-1]) ** 2))\n",
    "    snapshots_freq.append(snapshots_freq[-1] * shift)\n",
    "    snapshots_spatial.append(find_ift_2d(snapshots_freq[-1]))\n",
    "\n",
    "    \n",
    "fig = plt.figure(figsize=(8,8))\n",
    "frame = snapshots_spatial[0]\n",
    "im = plt.imshow(frame, interpolation='none', aspect='auto', cmap='gray')\n",
    "\n",
    "\n",
    "def animate_func(i):\n",
    "    im.set_array(snapshots_spatial[i])\n",
    "    plt.title(f\"X shift {i * dxx:.2f} \\n Y shift {i * dyy:.2f}\")\n",
    "    return [im]\n",
    "\n",
    "\n",
    "anim = animation.FuncAnimation(\n",
    "    fig, \n",
    "    animate_func, \n",
    "    frames = seconds_num * fps,\n",
    "    # interval = 1000 / fps, # in ms\n",
    ")"
   ]
  },
  {
   "cell_type": "markdown",
   "id": "8d58ec93",
   "metadata": {},
   "source": [
    "# Example of XY smooth transition and shift"
   ]
  },
  {
   "cell_type": "code",
   "execution_count": null,
   "id": "6a04761c",
   "metadata": {},
   "outputs": [],
   "source": [
    "%matplotlib inline\n",
    "\n",
    "shape = (100, 100)\n",
    "y_size, x_size = shape\n",
    "yy, xx = freq_numbers_2d(shape)\n",
    "depth = int(x_size * 0.3)\n",
    "dx, dy = 50, 25\n",
    "\n",
    "img = gen_cloud(x_size, y_size)\n",
    "new_img = make_img_transition_xy(img, depth, outter_smooth=True)\n",
    "shifted_img = shift_img_xy(new_img, dx, dy)\n",
    "\n",
    "f, ax = show_images(img, new_img, shifted_img)\n",
    "plt.show()"
   ]
  },
  {
   "cell_type": "code",
   "execution_count": null,
   "id": "93c7d80f",
   "metadata": {},
   "outputs": [],
   "source": [
    "%matplotlib notebook\n",
    "\n",
    "# Shift values\n",
    "dx, dy = 200, 0\n",
    "\n",
    "# Shift values per one frame\n",
    "fps = 30\n",
    "seconds_num = 5\n",
    "dxx = dx / fps / seconds_num\n",
    "dyy = dy / fps / seconds_num\n",
    "\n",
    "dx_arr = [0]\n",
    "dy_arr = [0]\n",
    "for i in range(fps * seconds_num):\n",
    "    dx_arr.append(dx_arr[-1] + dxx)\n",
    "    dy_arr.append(dy_arr[-1] + dyy)\n",
    "    \n",
    "\n",
    "for i in range(fps * seconds_num):\n",
    "    dx_arr[i] = round(dx_arr[i])\n",
    "    dy_arr[i] = round(dy_arr[i])\n",
    "    \n",
    "\n",
    "x_mesh, y_mesh = np.meshgrid(xx, yy)\n",
    "snapshots = []\n",
    "for i in range(fps * seconds_num):\n",
    "    snapshots.append(shift_img_xy(new_img, dx_arr[i], dy_arr[i]))\n",
    "\n",
    "    \n",
    "fig = plt.figure(figsize=(5,5))\n",
    "frame = snapshots[0]\n",
    "im = plt.imshow(frame, interpolation='none', aspect='auto', cmap='gray')\n",
    "\n",
    "\n",
    "def animate_func(i):\n",
    "    im.set_array(snapshots[i])\n",
    "    plt.title(f\"X shift {i * dxx:.2f} \\n Y shift {i * dyy:.2f}\")\n",
    "    return [im]\n",
    "\n",
    "\n",
    "anim = animation.FuncAnimation(\n",
    "    fig, \n",
    "    animate_func, \n",
    "    frames = seconds_num * fps,\n",
    "    interval = 1000 / fps, # in ms\n",
    ")"
   ]
  }
 ],
 "metadata": {
  "kernelspec": {
   "display_name": "Python 3 (ipykernel)",
   "language": "python",
   "name": "python3"
  },
  "language_info": {
   "codemirror_mode": {
    "name": "ipython",
    "version": 3
   },
   "file_extension": ".py",
   "mimetype": "text/x-python",
   "name": "python",
   "nbconvert_exporter": "python",
   "pygments_lexer": "ipython3",
   "version": "3.10.13"
  }
 },
 "nbformat": 4,
 "nbformat_minor": 5
}
