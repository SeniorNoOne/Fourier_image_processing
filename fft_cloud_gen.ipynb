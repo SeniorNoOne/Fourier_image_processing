{
 "cells": [
  {
   "cell_type": "code",
   "execution_count": null,
   "id": "5f190dfd",
   "metadata": {},
   "outputs": [],
   "source": [
    "from os import getcwd\n",
    "from common.utils import * \n",
    "\n",
    "input_dir = getcwd() + '/img/input_samples/'\n",
    "outp_dir = getcwd() + '/img/output_fft_noise_images/'\n",
    "\n",
    "figsize = (10, 4)\n",
    "figsize_tall = (10, 8)\n",
    "figsize_wide = (12, 4)\n",
    "figsize_default = (6.4, 4.8)\n",
    "cbar_loc = [0.9, 0.11, 0.02, 0.77]\n",
    "\n",
    "SMALL_SIZE = 8\n",
    "MEDIUM_SIZE = 14\n",
    "BIGGER_SIZE = 16\n",
    "FIGSIZE_WIDE = (9, 4.8)\n",
    "FIGSIZE_TALL = (6.4, 6)\n",
    "MARKERSIZE = 100\n",
    "\n",
    "plt.rc('font', size=SMALL_SIZE)\n",
    "plt.rc('axes', titlesize=BIGGER_SIZE)\n",
    "plt.rc('axes', labelsize=BIGGER_SIZE)\n",
    "plt.rc('xtick', labelsize=BIGGER_SIZE)\n",
    "plt.rc('ytick', labelsize=BIGGER_SIZE)\n",
    "plt.rc('legend', fontsize=MEDIUM_SIZE)\n",
    "plt.rc('figure', titlesize=SMALL_SIZE)\n",
    "\n",
    "%matplotlib inline"
   ]
  },
  {
   "cell_type": "markdown",
   "id": "4e560830",
   "metadata": {},
   "source": [
    "# FFT Spectrum leakage"
   ]
  },
  {
   "cell_type": "code",
   "execution_count": null,
   "id": "494f88f9",
   "metadata": {},
   "outputs": [],
   "source": [
    "size = 100\n",
    "x = freq_numbers_1d(size)\n",
    "xx = adjust_spectrum_1d(x)\n",
    "kernel = freq_pink_filter_1d(x)\n",
    "kernel_sym = freq_pink_filter_1d(xx)\n",
    "\n",
    "noise = np.random.normal(0, 1, size)\n",
    "noise -= np.mean(noise)\n",
    "\n",
    "zero_padded = np.copy(noise)\n",
    "zero_padded[-1] = zero_padded[0] \n",
    "zero_padded -= np.mean(zero_padded)\n",
    "\n",
    "noise_ft = find_ft_1d(noise)\n",
    "noise_ft = adjust_spectrum_1d(noise_ft)\n",
    "noise_magn_raw = np.abs(noise_ft)\n",
    "noise_magn_n = normalize(noise_magn_raw)\n",
    "noise_magn_l = np.log10(noise_magn_n)\n",
    "\n",
    "zero_padded_ft = find_ft_1d(zero_padded)\n",
    "zero_padded_ft = adjust_spectrum_1d(zero_padded_ft)\n",
    "zero_padded_magn_raw = np.abs(zero_padded_ft)\n",
    "zero_padded_magn_n = normalize(zero_padded_magn_raw)\n",
    "zero_padded_magn_l = np.log10(zero_padded_magn_n)\n",
    "\n",
    "ax = plot_graphs(noise, zero_padded, grid=True, figsize=figsize)\n",
    "plt.show()"
   ]
  },
  {
   "cell_type": "code",
   "execution_count": null,
   "id": "89c802a0",
   "metadata": {},
   "outputs": [],
   "source": [
    "ax = plot_graphs((xx, noise_magn_raw), (xx, zero_padded_magn_raw), grid=True, figsize=figsize)\n",
    "plt.show()"
   ]
  },
  {
   "cell_type": "code",
   "execution_count": null,
   "id": "243713f4",
   "metadata": {},
   "outputs": [],
   "source": [
    "fig, (ax1, ax2) = plt.subplots(1, 2, figsize=figsize_wide)\n",
    "\n",
    "ax1 = plot_graphs(noise, (zero_padded, '--'), ax=ax1, grid=True, ylabel='X(k)', xlabel='k, (а)')\n",
    "ax2 = plot_graphs((xx, noise_magn_raw), (xx, zero_padded_magn_raw, '--'), ax=ax2, grid=True, ylabel='X(k)', xlabel='k, (б)')\n",
    "# fig.savefig(outp_dir + 'spectrum_leakage.png')\n",
    "plt.show()"
   ]
  },
  {
   "cell_type": "markdown",
   "id": "83944568",
   "metadata": {},
   "source": [
    "# FFT Synthesis demo"
   ]
  },
  {
   "cell_type": "code",
   "execution_count": null,
   "id": "568cb9ca",
   "metadata": {},
   "outputs": [],
   "source": [
    "pink_noise_ft = noise_ft * kernel_sym\n",
    "power_factor = normalize_psd(noise_magn_raw, np.abs(pink_noise_ft))\n",
    "pink_noise = power_factor * find_ift_1d(pink_noise_ft)\n",
    "\n",
    "ax = plot_graphs((x, noise), (x, kernel, 'g--'), (x, kernel * noise), grid=True)\n",
    "plt.show()"
   ]
  },
  {
   "cell_type": "code",
   "execution_count": null,
   "id": "ce218b64",
   "metadata": {},
   "outputs": [],
   "source": [
    "ax = plot_graphs(noise, (pink_noise, '--'), grid=True)\n",
    "plt.show()"
   ]
  },
  {
   "cell_type": "code",
   "execution_count": null,
   "id": "9e371165",
   "metadata": {},
   "outputs": [],
   "source": [
    "fig, (ax1, ax2) = plt.subplots(1, 2, figsize=figsize_wide)\n",
    "ax1 = plot_graphs(noise, (pink_noise, '--'), ax=ax1, ylabel='X(k)', xlabel='k, (а)', grid=True)\n",
    "ax2 = plot_graphs((xx, noise_ft.real), (xx, 10 * kernel_sym, 'g--'), \n",
    "                  (xx, noise_ft.real * kernel_sym, '--'), ax=ax2,\n",
    "                  ylabel='X(k)', xlabel='k, (б)', grid=True)\n",
    "plt.subplots_adjust(wspace=0.3)\n",
    "plt.show()"
   ]
  },
  {
   "cell_type": "code",
   "execution_count": null,
   "id": "4e94e106",
   "metadata": {},
   "outputs": [],
   "source": [
    "plt.loglog(xx, noise_magn_raw)\n",
    "plt.loglog(xx, kernel_sym)\n",
    "plt.loglog(xx, kernel_sym * noise_magn_raw)\n",
    "plt.gca().set_ybound(10 ** -3, 100)\n",
    "plt.grid()\n",
    "plt.show()"
   ]
  },
  {
   "cell_type": "markdown",
   "id": "038e5102",
   "metadata": {},
   "source": [
    "# 2D FFT Synthesis demo"
   ]
  },
  {
   "cell_type": "code",
   "execution_count": null,
   "id": "9b0c0dfe",
   "metadata": {},
   "outputs": [],
   "source": [
    "shape = (256, 256)\n",
    "y_size, x_size = shape\n",
    "xx, yy = freq_numbers_2d(shape)\n",
    "x, y = freq_mesh_2d(shape)\n",
    "\n",
    "noise = np.random.normal(0, 1, shape)\n",
    "noise -= np.mean(noise)\n",
    "noise_ft = find_ft_2d(noise)\n",
    "\n",
    "kernel_1 = freq_pink_filter_2d(xx, yy, factor=1.5)\n",
    "kernel_2 = freq_pink_filter_2d(xx, yy, factor=1.5, x_stretch=0.5)\n",
    "\n",
    "pic_1 = find_ift_2d(noise_ft * kernel_1)\n",
    "pic_1 = normalize_img(pic_1)\n",
    "\n",
    "pic_2 = find_ift_2d(noise_ft * kernel_2)\n",
    "pic_2 = normalize_img(pic_2)\n",
    "\n",
    "fig, (ax1, ax2) = plt.subplots(1, 2, figsize=figsize)\n",
    "im1 = ax1.imshow(pic_1, cmap='gray')\n",
    "ax1.set_xlabel('а')\n",
    "\n",
    "im2 = ax2.imshow(pic_2, cmap='gray')\n",
    "ax2.set_xlabel('б')\n",
    "\n",
    "cax = fig.add_axes([0.9, 0.11, 0.02, 0.77]) \n",
    "cbar = plt.colorbar(im2, cax=cax)\n",
    "\n",
    "plt.subplots_adjust(wspace=0)\n",
    "# plt.savefig(outp_dir + 'fourier_synthesis_2d_case.png')\n",
    "plt.show()"
   ]
  },
  {
   "cell_type": "code",
   "execution_count": null,
   "id": "bfc60d68",
   "metadata": {},
   "outputs": [],
   "source": [
    "fig, ax = plt.subplots(subplot_kw={'projection': '3d'})\n",
    "ax.plot_surface(x, y, np.log10(kernel_1))\n",
    "ax.plot_surface(x, y, np.log10(kernel_2))\n",
    "plt.show()"
   ]
  },
  {
   "cell_type": "code",
   "execution_count": null,
   "id": "fcca61ac",
   "metadata": {},
   "outputs": [],
   "source": [
    "fig, (ax1, ax2) = plt.subplots(1, 2, figsize=figsize)\n",
    "\n",
    "im1 = ax1.imshow(np.log(kernel_1), cmap='gray')\n",
    "ax1.set_xlabel('а')\n",
    "\n",
    "im2 = ax2.imshow(np.log(kernel_2), cmap='gray')\n",
    "ax2.set_xlabel('б')\n",
    "\n",
    "cax = fig.add_axes([0.9, 0.11, 0.02, 0.77]) \n",
    "cbar = plt.colorbar(im2, cax=cax)\n",
    "\n",
    "plt.subplots_adjust(wspace=0)\n",
    "# plt.savefig(outp_dir + 'pink_noise_kernel_2d_case.png')\n",
    "plt.show()"
   ]
  },
  {
   "cell_type": "markdown",
   "id": "e97f1dfa",
   "metadata": {},
   "source": [
    "# Frequency domain Pink Noise shifting"
   ]
  },
  {
   "cell_type": "code",
   "execution_count": null,
   "id": "452e6439",
   "metadata": {},
   "outputs": [],
   "source": [
    "shape = (256, 256)\n",
    "y_size, x_size = shape\n",
    "xx, yy = freq_numbers_2d(shape)\n",
    "x, y = freq_mesh_2d(shape)\n",
    "dx, dy = 25, 20\n",
    "\n",
    "# Generating cloud image\n",
    "whitenoise = np.random.normal(0, 1, shape)\n",
    "whitenoise_ft = find_ft_2d(whitenoise)\n",
    "kernel = freq_pink_filter_2d(xx, yy, factor=2)\n",
    "pink_ft = whitenoise_ft * kernel\n",
    "pink_noise = normalize_img(find_ift_2d(pink_ft))\n",
    "\n",
    "# Apply the phase shift along both axes\n",
    "shift = np.exp(-1j * 2 * np.pi  * (x * dx / x_size + y * dy / y_size))\n",
    "pink_ft_shifted = pink_ft * shift\n",
    "shifted_pink_noise = normalize_img(find_ift_2d(pink_ft_shifted))\n",
    "\n",
    "f, ax = show_images(pink_noise, shifted_pink_noise, figsize=figsize_tall)\n",
    "plt.show()"
   ]
  },
  {
   "cell_type": "markdown",
   "id": "b5f48103",
   "metadata": {},
   "source": [
    "# Smooth transition between cloud images"
   ]
  },
  {
   "cell_type": "code",
   "execution_count": null,
   "id": "1f202f88",
   "metadata": {},
   "outputs": [],
   "source": [
    "shape = (256, 256)\n",
    "y_size, x_size = shape\n",
    "xx, yy = freq_numbers_2d(shape)\n",
    "x, y = freq_mesh_2d(shape)\n",
    "depth = int(x_size * 0.3)\n",
    "\n",
    "img = gen_cloud(x_size, y_size)\n",
    "img_new = make_img_transition_x(img, depth)\n",
    "\n",
    "f, ax = show_images(img, img_new, figsize=figsize_tall)\n",
    "plt.show()"
   ]
  },
  {
   "cell_type": "code",
   "execution_count": null,
   "id": "e0e92a39",
   "metadata": {},
   "outputs": [],
   "source": [
    "img = gen_cloud(x_size, y_size)\n",
    "img_new = make_img_transition_y(img, depth)\n",
    "\n",
    "f, ax = show_images(img, img_new, figsize=figsize_tall)\n",
    "plt.show()"
   ]
  },
  {
   "cell_type": "code",
   "execution_count": null,
   "id": "13cfe7a7",
   "metadata": {},
   "outputs": [],
   "source": [
    "img = gen_cloud(x_size, y_size)\n",
    "img_row_1 = make_img_transition_x(img, depth)\n",
    "img_row_2 = make_img_transition_y(img_row_1, depth)\n",
    "\n",
    "f, ax = show_images(img_row_1, img_row_2, figsize=figsize_tall)\n",
    "plt.show()"
   ]
  },
  {
   "cell_type": "markdown",
   "id": "e7083d8c",
   "metadata": {},
   "source": [
    "# Example of XY smooth transition and shift"
   ]
  },
  {
   "cell_type": "code",
   "execution_count": null,
   "id": "28776bca",
   "metadata": {},
   "outputs": [],
   "source": [
    "shape = (256, 256)\n",
    "y_size, x_size = shape\n",
    "xx, yy = freq_numbers_2d(shape)\n",
    "dx, dy = 25, 20\n",
    "depth = int(x_size * 0.3)\n",
    "\n",
    "img = gen_cloud(x_size, y_size)\n",
    "new_img = make_img_transition_xy(img, depth, outter_smooth=True)\n",
    "shifted_img = shift_img_xy(new_img, dx, dy)\n",
    "\n",
    "f, ax = show_images(img, new_img, shifted_img, figsize=figsize_tall)\n",
    "plt.show()"
   ]
  }
 ],
 "metadata": {
  "kernelspec": {
   "display_name": "Python 3 (ipykernel)",
   "language": "python",
   "name": "python3"
  },
  "language_info": {
   "codemirror_mode": {
    "name": "ipython",
    "version": 3
   },
   "file_extension": ".py",
   "mimetype": "text/x-python",
   "name": "python",
   "nbconvert_exporter": "python",
   "pygments_lexer": "ipython3",
   "version": "3.10.13"
  }
 },
 "nbformat": 4,
 "nbformat_minor": 5
}
