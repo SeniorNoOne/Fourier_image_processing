{
 "cells": [
  {
   "cell_type": "code",
   "execution_count": null,
   "id": "2b7604ed",
   "metadata": {},
   "outputs": [],
   "source": [
    "from PIL import Image\n",
    "from os import getcwd\n",
    "\n",
    "from common.utils import * \n",
    "\n",
    "%matplotlib inline\n",
    "\n",
    "input_dir = getcwd() + '/img/input_samples/'\n",
    "outp_dir = getcwd() + '/img/output_fft_noise_images/'"
   ]
  },
  {
   "cell_type": "markdown",
   "id": "4e560830",
   "metadata": {},
   "source": [
    "# FFT Spectrum leakage"
   ]
  },
  {
   "cell_type": "code",
   "execution_count": null,
   "id": "3b572b8a",
   "metadata": {},
   "outputs": [],
   "source": [
    "size = 100\n",
    "\n",
    "noise = np.random.normal(0, 1, size)\n",
    "noise = noise - np.mean(noise)\n",
    "\n",
    "zero_padded = np.copy(noise)\n",
    "zero_padded[-1] = zero_padded[0] \n",
    "zero_padded = zero_padded - np.mean(zero_padded)\n",
    "\n",
    "noise_img = find_ft_1d(noise)\n",
    "zero_padded_img = find_ft_1d(zero_padded)\n",
    "\n",
    "x = freq_numbers_1d(size)\n",
    "f = freq_pink_filter_1d(x)\n",
    "f = normalize(f)\n",
    "\n",
    "noise_mod = adjust_img_1d(noise)\n",
    "noise_img_mod = adjust_img_1d(noise_img)\n",
    "zero_padded_img_mod = adjust_img_1d(zero_padded_img)\n",
    "x_mod = adjust_freq_1d(x)\n",
    "f_mod = adjust_freq_1d(f)\n",
    "\n",
    "\n",
    "fig = plt.figure(figsize=(10, 4))\n",
    "plt.plot(noise)\n",
    "plt.plot(zero_padded)\n",
    "plt.grid(True)"
   ]
  },
  {
   "cell_type": "code",
   "execution_count": null,
   "id": "89c802a0",
   "metadata": {},
   "outputs": [],
   "source": [
    "fig = plt.figure(figsize=(10, 4))\n",
    "\n",
    "diff = (-np.abs(noise_img_mod) + np.abs(zero_padded_img_mod)) / np.max(np.abs(noise_img_mod)) * 100 \n",
    "\n",
    "plt.plot(x_mod, np.abs(noise_img_mod))\n",
    "plt.plot(x_mod, np.abs(zero_padded_img_mod))\n",
    "plt.grid(True)"
   ]
  },
  {
   "cell_type": "code",
   "execution_count": null,
   "id": "2f308eb6",
   "metadata": {},
   "outputs": [],
   "source": [
    "fig = plt.figure(figsize=(12, 4))\n",
    "ax1 = fig.add_subplot(1, 2, 1)\n",
    "im1 = ax1.plot(noise)\n",
    "im2 = ax1.plot(zero_padded, '--')\n",
    "plt.grid()\n",
    "plt.xlabel('а')\n",
    "\n",
    "ax2 = fig.add_subplot(1, 2, 2)\n",
    "im2 = ax2.plot(x_mod, np.abs(noise_img_mod))\n",
    "plt.plot(x_mod, np.abs(zero_padded_img_mod), '--')\n",
    "plt.xlabel('б')\n",
    "\n",
    "# plt.savefig(outp_dir + 'spectrum_leakage.png')\n",
    "plt.grid()\n",
    "plt.show()"
   ]
  },
  {
   "cell_type": "markdown",
   "id": "83944568",
   "metadata": {},
   "source": [
    "# FFT Synthesis demo"
   ]
  },
  {
   "cell_type": "code",
   "execution_count": null,
   "id": "568cb9ca",
   "metadata": {},
   "outputs": [],
   "source": [
    "size = 100\n",
    "\n",
    "noise = np.random.normal(0, 1, size)\n",
    "noise[-1] = noise[0] \n",
    "noise = noise - np.mean(noise)\n",
    "\n",
    "zero_padded = np.copy(noise)\n",
    "zero_padded[-1] = zero_padded[0] \n",
    "zero_padded = zero_padded - np.mean(zero_padded)\n",
    "\n",
    "noise_img = find_ft_1d(noise)\n",
    "zero_padded_img = find_ft_1d(zero_padded)\n",
    "\n",
    "x = freq_numbers_1d(size)\n",
    "f = freq_pink_filter_1d(x, factor=1)\n",
    "f = normalize(f)\n",
    "\n",
    "noise_mod = adjust_img_1d(noise)\n",
    "noise_img_mod = adjust_img_1d(noise_img)\n",
    "zero_padded_img_mod = adjust_img_1d(zero_padded_img)\n",
    "x_mod = adjust_freq_1d(x)\n",
    "f_mod = adjust_freq_1d(f)\n",
    "\n",
    "plt.plot(x_mod, noise_mod)\n",
    "plt.plot(x_mod, f_mod, 'g--')\n",
    "plt.plot(x_mod, (f_mod * noise_mod))\n",
    "plt.grid()"
   ]
  },
  {
   "cell_type": "code",
   "execution_count": null,
   "id": "ce218b64",
   "metadata": {},
   "outputs": [],
   "source": [
    "init_power = sum(abs(noise_img) ** 2)\n",
    "pink_power = sum(abs(noise_img * f) ** 2)\n",
    "power_factor = (init_power / pink_power) ** 0.5\n",
    "pink_noise = power_factor * find_ift_1d(noise_img * f).real\n",
    "\n",
    "plt.plot(noise)\n",
    "plt.plot(pink_noise, '--')\n",
    "plt.grid()"
   ]
  },
  {
   "cell_type": "code",
   "execution_count": null,
   "id": "9e371165",
   "metadata": {},
   "outputs": [],
   "source": [
    "fig = plt.figure(figsize=(12, 4))\n",
    "ax1 = fig.add_subplot(1, 2, 1)\n",
    "im1 = ax1.plot(noise)\n",
    "im2 = ax1.plot(pink_noise, '--')\n",
    "plt.grid()\n",
    "plt.xlabel('а')\n",
    "\n",
    "ax2 = fig.add_subplot(1, 2, 2)\n",
    "im1 = ax2.plot(x_mod, noise_img_mod.real)\n",
    "im2 = ax2.plot(x_mod, 10 * f_mod, 'g--')\n",
    "im3 = ax2.plot(x_mod, (f_mod * noise_img_mod.real), '--')\n",
    "plt.grid()\n",
    "plt.xlabel('б')\n",
    "\n",
    "# plt.savefig(outp_dir + 'Fourier_synthesis.png')\n",
    "plt.show()"
   ]
  },
  {
   "cell_type": "code",
   "execution_count": null,
   "id": "4e94e106",
   "metadata": {},
   "outputs": [],
   "source": [
    "plt.loglog(x, np.abs(noise_img))\n",
    "plt.loglog(x, np.abs(noise_img * f))\n",
    "plt.loglog(x, f)\n",
    "plt.gca().set_ybound(10 ** -3, 100)\n",
    "\n",
    "plt.grid()"
   ]
  },
  {
   "cell_type": "markdown",
   "id": "038e5102",
   "metadata": {},
   "source": [
    "# 2D FFT Synthesis demo"
   ]
  },
  {
   "cell_type": "code",
   "execution_count": null,
   "id": "bceea9ac",
   "metadata": {},
   "outputs": [],
   "source": [
    "size = (128, 128)\n",
    "\n",
    "noise = np.random.normal(0, 1, size)\n",
    "noise = noise - np.mean(noise)\n",
    "noise_img = find_ft_2d(noise)\n",
    "\n",
    "x = freq_numbers_1d(size[0])\n",
    "y = freq_numbers_1d(size[1])\n",
    "f_1 = freq_pink_filter_2d(x, y, factor=1)\n",
    "f_1 = normalize(f_1)\n",
    "\n",
    "# need to add naive stretching along axes\n",
    "# f_2 = freq_filter_2d(x, y, x_aspect=1.5, y_aspect=0.5, factor=1)\n",
    "f_2 = freq_pink_filter_2d(x, y, factor=1.5)\n",
    "f_2 = normalize(f_2)\n",
    "\n",
    "X, Y = np.meshgrid(x, y)\n",
    "\n",
    "pic_1 = find_ift_2d(noise_img * f_1).real\n",
    "pic_1 = normalize(pic_1)\n",
    "\n",
    "pic_2 = find_ift_2d(noise_img * f_2).real\n",
    "pic_2 = normalize(pic_2)"
   ]
  },
  {
   "cell_type": "code",
   "execution_count": null,
   "id": "8497abc4",
   "metadata": {},
   "outputs": [],
   "source": [
    "fig = plt.figure(figsize=(10, 4))\n",
    "ax1 = fig.add_subplot(1, 2, 1)\n",
    "im1 = ax1.imshow(pic_1, cmap='gray')\n",
    "plt.xlabel('а')\n",
    "\n",
    "ax2 = fig.add_subplot(1, 2, 2)\n",
    "im2 = ax2.imshow(pic_2, cmap='gray')\n",
    "plt.xlabel('б')\n",
    "\n",
    "cax = fig.add_axes([0.9, 0.11, 0.02, 0.77]) \n",
    "cbar = plt.colorbar(im1, cax=cax)\n",
    "\n",
    "plt.subplots_adjust(wspace=0)\n",
    "# plt.savefig(outp_dir + 'fourier_synthesis_2d_case.png')\n",
    "plt.show()"
   ]
  },
  {
   "cell_type": "code",
   "execution_count": null,
   "id": "5d07c785",
   "metadata": {},
   "outputs": [],
   "source": [
    "fig, ax = plt.subplots(subplot_kw={\"projection\": \"3d\"})\n",
    "ax.plot_surface(X, Y, np.log(f_1))\n",
    "ax.plot_surface(X, Y, np.log(f_2))"
   ]
  },
  {
   "cell_type": "code",
   "execution_count": null,
   "id": "fcca61ac",
   "metadata": {},
   "outputs": [],
   "source": [
    "fig = plt.figure(figsize=(10, 4))\n",
    "ax1 = fig.add_subplot(1, 2, 1)\n",
    "im1 = ax1.imshow(np.log(f_1), cmap='gray')\n",
    "plt.xlabel('а')\n",
    "\n",
    "ax2 = fig.add_subplot(1, 2, 2)\n",
    "im2 = ax2.imshow(np.log(f_2), cmap='gray')\n",
    "plt.xlabel('б')\n",
    "\n",
    "cax = fig.add_axes([0.9, 0.11, 0.02, 0.77]) \n",
    "cbar = plt.colorbar(im1, cax=cax)\n",
    "\n",
    "plt.subplots_adjust(wspace=0)\n",
    "# plt.savefig(outp_dir + 'value_noise_2d_case.png')\n",
    "plt.show()"
   ]
  },
  {
   "cell_type": "markdown",
   "id": "ab5936de",
   "metadata": {},
   "source": [
    "# Rubik's cube example"
   ]
  },
  {
   "cell_type": "code",
   "execution_count": null,
   "id": "e62d3395",
   "metadata": {},
   "outputs": [],
   "source": [
    "cube = Image.open(input_dir +'cube_1.png').convert('L')\n",
    "cube_fr = find_ft_2d(cube)\n",
    "\n",
    "y_size, x_size = cube_fr.shape\n",
    "xx = np.linspace(-x_size / 2, x_size / 2, x_size)\n",
    "yy = np.linspace(-y_size / 2, y_size / 2, y_size)\n",
    "\n",
    "kernel = normalize(freq_sharp_round_filter_2d(xx, yy, 50, False))\n",
    "eps = 10 ** -10\n",
    "\n",
    "f, (ax1, ax2) = plt.subplots(1, 2, sharey=True, figsize=(10, 10))\n",
    "ax1.imshow(cube, cmap='gray', vmin=0, vmax=255)\n",
    "\n",
    "# Wrong scaling, but it gives a really interesting visual representation\n",
    "ax2.imshow(find_ift_2d(cube_fr * kernel).real, cmap='gray', vmin=0, vmax=np.max(np.log(np.absolute(cube_fr + eps))))"
   ]
  },
  {
   "cell_type": "code",
   "execution_count": null,
   "id": "c0313ef0",
   "metadata": {},
   "outputs": [],
   "source": [
    "cube = Image.open(input_dir + 'woman.jpeg').convert('L')\n",
    "cube_fr = find_ft_2d(cube)\n",
    "\n",
    "y_size, x_size = cube_fr.shape\n",
    "xx = np.linspace(-x_size / 2, x_size / 2, x_size)\n",
    "yy = np.linspace(-y_size / 2, y_size / 2, y_size)\n",
    "\n",
    "fps = 30\n",
    "seconds_num = 5\n",
    "x_mesh, y_mesh = np.meshgrid(xx, yy)\n",
    "\n",
    "radius = 300\n",
    "cube_freq = [cube]\n",
    "kernel_arr = []\n",
    "\n",
    "for i in range(fps * seconds_num):\n",
    "    kernel = freq_sharp_round_filter_2d(xx, yy, i / fps / seconds_num * 150, False)\n",
    "    kernel_arr.append(kernel)\n",
    "    cube_freq.append(find_ift_2d(cube_fr * kernel).real)"
   ]
  },
  {
   "cell_type": "code",
   "execution_count": null,
   "id": "49712d72",
   "metadata": {
    "scrolled": false
   },
   "outputs": [],
   "source": [
    "%matplotlib notebook\n",
    "\n",
    "fig = plt.figure(figsize=(8,8))\n",
    "im = plt.imshow(cube_freq[0], interpolation='none', aspect='equal', cmap='gray')\n",
    "\n",
    "\n",
    "def animate_func(i): \n",
    "    im.set_array(cube_freq[i])\n",
    "    return [im]\n",
    "\n",
    "\n",
    "anim = animation.FuncAnimation(\n",
    "    fig, \n",
    "    animate_func, \n",
    "    frames = seconds_num * fps,\n",
    "    interval = 1000 / fps, # in ms\n",
    ")\n",
    "\n",
    "\n",
    "# anim.save('women.gif', writer='pillow')"
   ]
  },
  {
   "cell_type": "code",
   "execution_count": null,
   "id": "195cd75e",
   "metadata": {
    "scrolled": false
   },
   "outputs": [],
   "source": [
    "%matplotlib inline\n",
    "\n",
    "cube = Image.open(input_dir + 'cube_1.png').convert('L')\n",
    "cube_fr = find_ft(cube)\n",
    "\n",
    "eps = 10 ** -10\n",
    "\n",
    "f, (ax1, ax2) = plt.subplots(1, 2, sharey=True, figsize=(10, 10))\n",
    "ax1.imshow(cube, cmap='gray', vmin=0, vmax=255)\n",
    "ax2.imshow(np.log(np.absolute(cube_fr + eps)), cmap='gray')"
   ]
  },
  {
   "cell_type": "markdown",
   "id": "e5c2b96d",
   "metadata": {},
   "source": [
    "# Phase correlation example"
   ]
  },
  {
   "cell_type": "code",
   "execution_count": null,
   "id": "857b4cff",
   "metadata": {},
   "outputs": [],
   "source": [
    "f1 = Image.open(input_dir + 'horse_1.png').convert('L')\n",
    "f2 = Image.open(input_dir + 'horse_translated_1.png').convert('L')\n",
    "\n",
    "f1_freq = find_ft_2d(f1)\n",
    "f2_freq = find_ft_2d(f2)\n",
    "\n",
    "f, (ax1, ax2) = plt.subplots(1, 2, sharey=True, figsize=(15, 15))\n",
    "ax1.imshow(f1, cmap='gray', vmin=0, vmax=255)\n",
    "ax2.imshow(f2, cmap='gray', vmin=0, vmax=255)"
   ]
  },
  {
   "cell_type": "code",
   "execution_count": null,
   "id": "72dff467",
   "metadata": {
    "scrolled": false
   },
   "outputs": [],
   "source": [
    "f, (ax1, ax2) = plt.subplots(1, 2, sharey=True, figsize=(15, 15))\n",
    "ax1.imshow(np.log(np.absolute(f1_freq)), cmap='gray')\n",
    "ax2.imshow(np.log(np.absolute(f2_freq)), cmap='gray')"
   ]
  },
  {
   "cell_type": "code",
   "execution_count": null,
   "id": "57411985",
   "metadata": {
    "scrolled": false
   },
   "outputs": [],
   "source": [
    "f, (ax1, ax2) = plt.subplots(1, 2, sharey=True, figsize=(15, 15))\n",
    "ax1.imshow(np.angle(f1_freq, deg=True), cmap='gray')\n",
    "ax2.imshow(np.angle(f2_freq, deg=True), cmap='gray')"
   ]
  },
  {
   "cell_type": "code",
   "execution_count": null,
   "id": "55df6787",
   "metadata": {},
   "outputs": [],
   "source": [
    "ncps = f1_freq * np.conj(f2_freq) / np.abs(f1_freq * f2_freq)\n",
    "shift = find_ift_2d(ncps)\n",
    "\n",
    "f, (ax1, ax2) = plt.subplots(1, 2, sharey=True, figsize=(15, 15))\n",
    "ax1.imshow(np.absolute(ncps), cmap='gray')\n",
    "ax2.imshow(np.absolute(shift), cmap='gray')"
   ]
  },
  {
   "cell_type": "code",
   "execution_count": null,
   "id": "fc90e096",
   "metadata": {},
   "outputs": [],
   "source": [
    "ind = np.unravel_index(np.argmax(shift, axis=None), shift.shape)\n",
    "[i - j for i, j in zip(shift.shape, ind)]"
   ]
  },
  {
   "cell_type": "markdown",
   "id": "e97f1dfa",
   "metadata": {},
   "source": [
    "# Shifting Pink Noise "
   ]
  },
  {
   "cell_type": "code",
   "execution_count": null,
   "id": "452e6439",
   "metadata": {},
   "outputs": [],
   "source": [
    "x_size = 256\n",
    "y_size = 256\n",
    "\n",
    "xx = np.linspace(-x_size / 2, x_size / 2, x_size)\n",
    "yy = np.linspace(-y_size / 2, y_size / 2, y_size)\n",
    "\n",
    "# Generating cloud image\n",
    "whitenoise = np.random.normal(0, 1, (y_size, x_size))\n",
    "ft_arr = find_ft_2d(whitenoise)\n",
    "kernel = freq_pink_filter_2d(xx, yy, factor=1.4)\n",
    "\n",
    "pink_ft_arr = ft_arr * kernel\n",
    "pink_noise = normalize_img(find_ift_2d(pink_ft_arr).real)\n",
    "\n",
    "# Shifting initial image\n",
    "dx = 25\n",
    "dy = 20\n",
    "\n",
    "x_mesh, y_mesh = np.meshgrid(xx, yy)\n",
    "shift = np.exp(-1j * 2 * np.pi  * (x_mesh * dx / y_size + y_mesh * dy / x_size));\n",
    "\n",
    "# Apply the phase shift along both axes\n",
    "f_freq_shifted = pink_ft_arr * shift\n",
    "shifted_pink_noise = normalize_img(find_ift_2d(f_freq_shifted).real)\n",
    "\n",
    "show_images(pink_noise, shifted_pink_noise)"
   ]
  },
  {
   "cell_type": "code",
   "execution_count": null,
   "id": "646b688b",
   "metadata": {
    "scrolled": false
   },
   "outputs": [],
   "source": [
    "%matplotlib notebook\n",
    "\n",
    "# Generating cloud image\n",
    "whitenoise = np.random.normal(0, 1, (y_size, x_size))\n",
    "ft_arr = find_ft_2d(whitenoise)\n",
    "kernel = freq_pink_filter_2d(xx, yy, factor=2)\n",
    "\n",
    "pink_ft_arr = ft_arr * kernel\n",
    "pink_noise = find_ift_2d(pink_ft_arr).real\n",
    "\n",
    "# Shift values\n",
    "dx = 200\n",
    "dy = 0\n",
    "\n",
    "# Shift values per one frame\n",
    "fps = 30\n",
    "seconds_num = 5\n",
    "dxx = dx / fps / seconds_num\n",
    "dyy = dy / fps / seconds_num\n",
    "\n",
    "x_mesh, y_mesh = np.meshgrid(xx, yy)\n",
    "shift = np.exp(-1j * 2 * np.pi  * (x_mesh * dxx / y_size + y_mesh * dyy / x_size));\n",
    "\n",
    "snapshots_freq = [pink_ft_arr]\n",
    "snapshots_spatial = [pink_noise]\n",
    "for _ in range(fps * seconds_num):\n",
    "    # print(np.sum(np.absolute(snapshots_freq[-1]) ** 2))\n",
    "    snapshots_freq.append(snapshots_freq[-1] * shift)\n",
    "    snapshots_spatial.append(find_ift_2d(snapshots_freq[-1]).real)\n",
    "\n",
    "    \n",
    "fig = plt.figure(figsize=(8,8))\n",
    "frame = snapshots_spatial[0]\n",
    "im = plt.imshow(frame, interpolation='none', aspect='auto', cmap='gray')\n",
    "\n",
    "\n",
    "def animate_func(i):\n",
    "    im.set_array(snapshots_spatial[i])\n",
    "    plt.title(f\"X shift {i * dxx:.2f} \\n Y shift {i * dyy:.2f}\")\n",
    "    return [im]\n",
    "\n",
    "\n",
    "anim = animation.FuncAnimation(\n",
    "    fig, \n",
    "    animate_func, \n",
    "    frames = seconds_num * fps,\n",
    "    interval = 1000 / fps, # in ms\n",
    ")"
   ]
  },
  {
   "cell_type": "markdown",
   "id": "b5f48103",
   "metadata": {},
   "source": [
    "# Smooth transition"
   ]
  },
  {
   "cell_type": "code",
   "execution_count": null,
   "id": "fee403b7",
   "metadata": {},
   "outputs": [],
   "source": [
    "%matplotlib inline\n",
    "\n",
    "x_size = 256\n",
    "y_size = 256\n",
    "\n",
    "xx = np.linspace(-x_size / 2, x_size / 2, x_size)\n",
    "yy = np.linspace(-y_size / 2, y_size / 2, y_size)  \n",
    "depth = int(x_size * 0.3)\n",
    "\n",
    "img_1 = gen_cloud(x_size, y_size)\n",
    "img_2 = gen_cloud(x_size, y_size)\n",
    "\n",
    "img_1_cut = img_1[:, -depth:x_size]\n",
    "img_2_cut = img_2[:, 0:depth]\n",
    "img_2_tr = img_2[:,depth:x_size]\n",
    "\n",
    "x_kernel = spatial_smooth_filter(x_size, y_size, depth)\n",
    "img1_cut_pr = img_1_cut * x_kernel + img_2_cut * (1 - x_kernel)\n",
    "img_1[:,-depth:x_size] = img1_cut_pr\n",
    "img_concat = np.concatenate((img_1, img_2_tr), axis=1)\n",
    "\n",
    "show_images(img_1, img_2)"
   ]
  },
  {
   "cell_type": "code",
   "execution_count": null,
   "id": "f4b6d4b4",
   "metadata": {
    "scrolled": false
   },
   "outputs": [],
   "source": [
    "plt.plot(range(depth), x_kernel[0])"
   ]
  },
  {
   "cell_type": "code",
   "execution_count": null,
   "id": "2686fb15",
   "metadata": {},
   "outputs": [],
   "source": [
    "show_images(img_concat)"
   ]
  },
  {
   "cell_type": "code",
   "execution_count": null,
   "id": "1f202f88",
   "metadata": {},
   "outputs": [],
   "source": [
    "img = gen_cloud(x_size, y_size)\n",
    "img_new, add_img = make_img_transition_x(img, depth)\n",
    "img_concat = np.concatenate((img_new, add_img), axis=1)\n",
    "\n",
    "show_images(img, img_new, add_img, img_concat)"
   ]
  },
  {
   "cell_type": "code",
   "execution_count": null,
   "id": "7e801d3b",
   "metadata": {},
   "outputs": [],
   "source": [
    "img = gen_cloud(x_size, y_size)\n",
    "img_new, add_img = make_img_transition_x(img, depth, is_dx_pos=False)\n",
    "img_concat = np.concatenate((add_img, img_new), axis=1)\n",
    "\n",
    "show_images(img, img_new, add_img, img_concat)"
   ]
  },
  {
   "cell_type": "code",
   "execution_count": null,
   "id": "10c42fab",
   "metadata": {},
   "outputs": [],
   "source": [
    "img = gen_cloud(x_size, y_size)\n",
    "img_new, add_img = make_img_transition_y(img, depth)\n",
    "img_concat = np.concatenate((img_new, add_img), axis=0)\n",
    "\n",
    "show_images(img, img_new, add_img, img_concat)"
   ]
  },
  {
   "cell_type": "code",
   "execution_count": null,
   "id": "2f100b29",
   "metadata": {},
   "outputs": [],
   "source": [
    "img = gen_cloud(x_size, y_size)\n",
    "img_new, add_img = make_img_transition_y(img, depth, is_dy_pos=False)\n",
    "img_concat = np.concatenate((add_img, img_new), axis=0)\n",
    "\n",
    "show_images(img, img_new, add_img, img_concat)"
   ]
  },
  {
   "cell_type": "code",
   "execution_count": null,
   "id": "13cfe7a7",
   "metadata": {},
   "outputs": [],
   "source": [
    "img = gen_cloud(x_size, y_size)\n",
    "\n",
    "img_new, img_x = make_img_transition_x(img, depth)\n",
    "img_row_1 = np.concatenate((img_new, img_x), axis=1)\n",
    "\n",
    "img_new, img_y = make_img_transition_y(img_row_1, depth)\n",
    "img_row_2 = np.concatenate((img_new, img_y), axis=0)\n",
    "\n",
    "show_images(img_row_1, img_row_2)"
   ]
  },
  {
   "cell_type": "code",
   "execution_count": null,
   "id": "88ebc5be",
   "metadata": {},
   "outputs": [],
   "source": [
    "img = gen_cloud(x_size, y_size)\n",
    "\n",
    "img_new, img_x = make_img_transition_x(img, depth, is_dx_pos=False)\n",
    "img_row_1 = np.concatenate((img_x, img_new), axis=1)\n",
    "\n",
    "img_new, img_y = make_img_transition_y(img_row_1, depth)\n",
    "img_row_2 = np.concatenate((img_new, img_y), axis=0)\n",
    "\n",
    "show_images(img_row_1, img_row_2)"
   ]
  },
  {
   "cell_type": "code",
   "execution_count": null,
   "id": "1e8be9be",
   "metadata": {},
   "outputs": [],
   "source": [
    "img = gen_cloud(x_size, y_size)\n",
    "\n",
    "img_new, img_x = make_img_transition_x(img, depth)\n",
    "img_row_1 = np.concatenate((img_new, img_x), axis=1)\n",
    "\n",
    "img_new, img_y = make_img_transition_y(img_row_1, depth, is_dy_pos=False)\n",
    "img_row_2 = np.concatenate((img_y, img_new), axis=0)\n",
    "\n",
    "show_images(img_row_1, img_row_2)"
   ]
  },
  {
   "cell_type": "code",
   "execution_count": null,
   "id": "d9e42545",
   "metadata": {},
   "outputs": [],
   "source": [
    "img = gen_cloud(x_size, y_size)\n",
    "\n",
    "img_new, img_x = make_img_transition_x(img, depth, is_dx_pos=False)\n",
    "img_row_1 = np.concatenate((img_x, img_new), axis=1)\n",
    "\n",
    "img_new, img_y = make_img_transition_y(img_row_1, depth, is_dy_pos=False)\n",
    "img_row_2 = np.concatenate((img_y, img_new), axis=0)\n",
    "\n",
    "show_images(img_row_1, img_row_2)"
   ]
  },
  {
   "cell_type": "markdown",
   "id": "e7083d8c",
   "metadata": {},
   "source": [
    "# Example of XY smooth transition and shift"
   ]
  },
  {
   "cell_type": "code",
   "execution_count": null,
   "id": "28776bca",
   "metadata": {},
   "outputs": [],
   "source": [
    "%matplotlib inline\n",
    "\n",
    "x_size = 256\n",
    "y_size = 256\n",
    "depth = int(x_size * 0.3)\n",
    "\n",
    "xx = np.linspace(-x_size / 2, x_size / 2, x_size)\n",
    "yy = np.linspace(-y_size / 2, y_size / 2, y_size)  \n",
    "\n",
    "img = gen_cloud(x_size, y_size)\n",
    "\n",
    "new_img = make_img_transition_xy(img, depth)\n",
    "shifted_img = shift_img_xy(new_img, img.shape, 75, 50)\n",
    "\n",
    "show_images(new_img)"
   ]
  },
  {
   "cell_type": "code",
   "execution_count": null,
   "id": "1d7b548f",
   "metadata": {},
   "outputs": [],
   "source": [
    "show_images(shifted_img)"
   ]
  },
  {
   "cell_type": "code",
   "execution_count": null,
   "id": "0e2ddd47",
   "metadata": {},
   "outputs": [],
   "source": [
    "%matplotlib notebook\n",
    "\n",
    "# Shift values\n",
    "dx = 200\n",
    "dy = 200\n",
    "\n",
    "# Shift values per one frame\n",
    "fps = 30\n",
    "seconds_num = 5\n",
    "dxx = dx / fps / seconds_num\n",
    "dyy = dy / fps / seconds_num\n",
    "\n",
    "dx_arr = [0]\n",
    "dy_arr = [0]\n",
    "for i in range(fps * seconds_num):\n",
    "    dx_arr.append(dx_arr[-1] + dxx)\n",
    "    dy_arr.append(dy_arr[-1] + dyy)\n",
    "    \n",
    "\n",
    "for i in range(fps * seconds_num):\n",
    "    dx_arr[i] = round(dx_arr[i])\n",
    "    dy_arr[i] = round(dy_arr[i])\n",
    "    \n",
    "\n",
    "x_mesh, y_mesh = np.meshgrid(xx, yy)\n",
    "snapshots = []\n",
    "for i in range(fps * seconds_num):\n",
    "    snapshots.append(shift_img_xy(new_img, (256, 256), dx_arr[i], dy_arr[i]))\n",
    "\n",
    "    \n",
    "fig = plt.figure(figsize=(5,5))\n",
    "frame = snapshots[0]\n",
    "im = plt.imshow(frame, interpolation='none', aspect='auto', cmap='gray')\n",
    "\n",
    "\n",
    "def animate_func(i):\n",
    "    im.set_array(snapshots[i])\n",
    "    plt.title(f\"X shift {i * dxx:.2f} \\n Y shift {i * dyy:.2f}\")\n",
    "    return [im]\n",
    "\n",
    "\n",
    "anim = animation.FuncAnimation(\n",
    "    fig, \n",
    "    animate_func, \n",
    "    frames = seconds_num * fps,\n",
    "    interval = 1000 / fps, # in ms\n",
    ")"
   ]
  }
 ],
 "metadata": {
  "kernelspec": {
   "display_name": "Python 3 (ipykernel)",
   "language": "python",
   "name": "python3"
  },
  "language_info": {
   "codemirror_mode": {
    "name": "ipython",
    "version": 3
   },
   "file_extension": ".py",
   "mimetype": "text/x-python",
   "name": "python",
   "nbconvert_exporter": "python",
   "pygments_lexer": "ipython3",
   "version": "3.10.13"
  }
 },
 "nbformat": 4,
 "nbformat_minor": 5
}
