{
 "cells": [
  {
   "cell_type": "code",
   "execution_count": null,
   "id": "9fab0bb1",
   "metadata": {},
   "outputs": [],
   "source": [
    "import numpy as np\n",
    "import plotly.graph_objects as go\n",
    "import plotly.offline as pyo\n",
    "\n",
    "import matplotlib.pyplot as plt\n",
    "import matplotlib.animation as animation\n",
    "\n",
    "from PIL import Image, ImageOps\n",
    "from plotly.subplots import make_subplots\n",
    "\n",
    "from os import getcwd\n",
    "\n",
    "%matplotlib inline\n"
   ]
  },
  {
   "cell_type": "code",
   "execution_count": null,
   "id": "d8a257ee",
   "metadata": {},
   "outputs": [],
   "source": [
    "def normalize(arr):\n",
    "    min_val = abs(np.min(arr))\n",
    "    max_val = abs(np.max(arr))\n",
    "    return (arr + min_val) / (min_val + max_val)\n",
    "\n",
    "\n",
    "def img_normalize(img):\n",
    "    img_max = np.max(img)\n",
    "    return 255 * img / img_max\n",
    "\n",
    "\n",
    "def find_ft(img):\n",
    "    ft = np.fft.fft2(img)\n",
    "    return np.fft.fftshift(ft)\n",
    "\n",
    "\n",
    "def find_ift(ft):\n",
    "    ift = np.fft.ifftshift(ft)\n",
    "    return np.fft.ifft2(ift)\n",
    "\n",
    "\n",
    "def pink_filter_mask(x_freq, y_freq, factor=2.4):\n",
    "    eps = 10 ** -8\n",
    "    x, y = np.meshgrid(x_freq, y_freq)\n",
    "    f = np.hypot(x, y)\n",
    "    f = f ** factor + eps\n",
    "    return normalize(1 / f)\n",
    "\n",
    "\n",
    "def sharp_round_filter(x_freq, y_freq, radius, reverse=False):\n",
    "    eps = 10 ** -8\n",
    "    x, y = np.meshgrid(x_freq, y_freq)\n",
    "    if reverse:\n",
    "        f = np.zeros((x_size, y_size))\n",
    "    else:\n",
    "        f = np.ones((x_size, y_size))\n",
    "    \n",
    "    for i, xx in enumerate(x_freq):\n",
    "        for j, yy in enumerate(y_freq):\n",
    "            if xx ** 2 + yy ** 2 <= radius ** 2:\n",
    "                if reverse:\n",
    "                    f[i, j] = 1\n",
    "                else:\n",
    "                    f[i, j] = 0\n",
    "    return normalize(f)\n",
    "\n",
    "\n",
    "def sharp_square_filter(x_freq, y_freq, width, reverse=False):\n",
    "    eps = 10 ** -8\n",
    "    x, y = np.meshgrid(x_freq, y_freq)\n",
    "    if reverse:\n",
    "        f = np.zeros((x_size, y_size))\n",
    "    else:\n",
    "        f = np.ones((x_size, y_size))\n",
    "    \n",
    "    for i, xx in enumerate(x_freq):\n",
    "        for j, yy in enumerate(y_freq):\n",
    "            if abs(xx) + abs(yy) <= width:\n",
    "                if reverse:\n",
    "                    f[i, j] = 1\n",
    "                else:\n",
    "                    f[i, j] = 0\n",
    "    return normalize(f)\n",
    "\n",
    "\n",
    "CURRENT_DIR = getcwd()\n"
   ]
  },
  {
   "cell_type": "markdown",
   "id": "ab5936de",
   "metadata": {},
   "source": [
    "# Rubik's cube example"
   ]
  },
  {
   "cell_type": "code",
   "execution_count": null,
   "id": "f072370c",
   "metadata": {},
   "outputs": [],
   "source": [
    "cube = Image.open(CURRENT_DIR + '/img/cube_1.png').convert('L')\n",
    "cube_fr = find_ft(cube)\n",
    "\n",
    "x_size, y_size = cube_fr.shape\n",
    "xx = np.linspace(-x_size / 2, x_size / 2, x_size)\n",
    "yy = np.linspace(-y_size / 2, y_size / 2, y_size)\n",
    "\n",
    "kernel = normalize(sharp_square_filter(yy, xx, width=100))\n",
    "eps = 10 ** -10\n",
    "\n",
    "f, (ax1, ax2) = plt.subplots(1, 2, sharey=True, figsize=(10, 10))\n",
    "ax1.imshow(cube, cmap='gray', vmin=0, vmax=255)\n",
    "# Wrong scaling, but it gives a really interesting visual representation\n",
    "ax2.imshow(find_ift(cube_fr * kernel).real, cmap='gray', vmin=0, vmax=np.max(np.log(np.absolute(cube_fr + eps))))\n"
   ]
  },
  {
   "cell_type": "code",
   "execution_count": null,
   "id": "c0313ef0",
   "metadata": {},
   "outputs": [],
   "source": [
    "cube = Image.open(CURRENT_DIR + '/img/woman.jpeg').convert('L')\n",
    "cube_fr = find_ft(cube)\n",
    "\n",
    "x_size, y_size = cube_fr.shape\n",
    "xx = np.linspace(-x_size / 2, x_size / 2, x_size)\n",
    "yy = np.linspace(-y_size / 2, y_size / 2, y_size)\n",
    "\n",
    "fps = 30\n",
    "seconds_num = 5\n",
    "x_mesh, y_mesh = np.meshgrid(xx, yy)\n",
    "\n",
    "radius = 300\n",
    "cube_freq = [cube]\n",
    "kernel_arr = []\n",
    "\n",
    "for i in range(fps * seconds_num):\n",
    "    kernel = normalize(sharp_square_filter(xx, yy, width=i / fps / seconds_num * 150))\n",
    "    kernel_arr.append(kernel)\n",
    "    cube_freq.append(img_normalize(find_ift(cube_fr * kernel).real))\n",
    "    "
   ]
  },
  {
   "cell_type": "code",
   "execution_count": null,
   "id": "49712d72",
   "metadata": {
    "scrolled": false
   },
   "outputs": [],
   "source": [
    "%matplotlib notebook\n",
    "\n",
    "fig = plt.figure(figsize=(8,8))\n",
    "im = plt.imshow(cube_freq[0], interpolation='none', aspect='equal', cmap='gray', vmin=0, vmax=255)\n",
    "\n",
    "\n",
    "def animate_func(i): \n",
    "    im.set_array(cube_freq[i])\n",
    "    return [im]\n",
    "\n",
    "\n",
    "anim = animation.FuncAnimation(\n",
    "    fig, \n",
    "    animate_func, \n",
    "    frames = seconds_num * fps,\n",
    "    interval = 1000 / fps, # in ms\n",
    ")\n",
    "\n",
    "\n",
    "# anim.save('women.gif', writer='pillow')\n"
   ]
  },
  {
   "cell_type": "code",
   "execution_count": null,
   "id": "195cd75e",
   "metadata": {
    "scrolled": false
   },
   "outputs": [],
   "source": [
    "%matplotlib inline\n",
    "\n",
    "cube = Image.open(CURRENT_DIR + '/img/cube_1.png').convert('L')\n",
    "cube_fr = find_ft(cube)\n",
    "\n",
    "eps = 10 ** -10\n",
    "\n",
    "f, (ax1, ax2) = plt.subplots(1, 2, sharey=True, figsize=(10, 10))\n",
    "ax1.imshow(cube, cmap='gray', vmin=0, vmax=255)\n",
    "ax2.imshow(np.log(np.absolute(cube_fr + eps)), cmap='gray')\n"
   ]
  },
  {
   "cell_type": "markdown",
   "id": "e5c2b96d",
   "metadata": {},
   "source": [
    "# Phase correlation example"
   ]
  },
  {
   "cell_type": "code",
   "execution_count": null,
   "id": "857b4cff",
   "metadata": {},
   "outputs": [],
   "source": [
    "f1 = Image.open(CURRENT_DIR + '/img/horse_1.png').convert('L')\n",
    "f2 = Image.open(CURRENT_DIR + '/img/horse_translated_1.png').convert('L')\n",
    "\n",
    "f1_freq = find_ft(f1)\n",
    "f2_freq = find_ft(f2)\n",
    "\n",
    "f, (ax1, ax2) = plt.subplots(1, 2, sharey=True, figsize=(15, 15))\n",
    "ax1.imshow(f1, cmap='gray', vmin=0, vmax=255)\n",
    "ax2.imshow(f2, cmap='gray', vmin=0, vmax=255)\n"
   ]
  },
  {
   "cell_type": "code",
   "execution_count": null,
   "id": "72dff467",
   "metadata": {
    "scrolled": false
   },
   "outputs": [],
   "source": [
    "f, (ax1, ax2) = plt.subplots(1, 2, sharey=True, figsize=(15, 15))\n",
    "ax1.imshow(np.log(np.absolute(f1_freq)), cmap='gray')\n",
    "ax2.imshow(np.log(np.absolute(f2_freq)), cmap='gray')\n"
   ]
  },
  {
   "cell_type": "code",
   "execution_count": null,
   "id": "57411985",
   "metadata": {
    "scrolled": false
   },
   "outputs": [],
   "source": [
    "f, (ax1, ax2) = plt.subplots(1, 2, sharey=True, figsize=(15, 15))\n",
    "ax1.imshow(np.angle(f1_freq, deg=True), cmap='gray')\n",
    "ax2.imshow(np.angle(f2_freq, deg=True), cmap='gray')\n"
   ]
  },
  {
   "cell_type": "code",
   "execution_count": null,
   "id": "55df6787",
   "metadata": {},
   "outputs": [],
   "source": [
    "ncps = f1_freq * np.conj(f2_freq) / np.abs(f1_freq * f2_freq)\n",
    "shift = find_ift(ncps)\n",
    "\n",
    "f, (ax1, ax2) = plt.subplots(1, 2, sharey=True, figsize=(15, 15))\n",
    "ax1.imshow(np.absolute(ncps), cmap='gray')\n",
    "ax2.imshow(np.absolute(shift), cmap='gray')\n"
   ]
  },
  {
   "cell_type": "code",
   "execution_count": null,
   "id": "fc90e096",
   "metadata": {},
   "outputs": [],
   "source": [
    "ind = np.unravel_index(np.argmax(shift, axis=None), shift.shape)\n",
    "[i - j for i, j in zip(shift.shape, ind)]\n"
   ]
  },
  {
   "cell_type": "markdown",
   "id": "e97f1dfa",
   "metadata": {},
   "source": [
    "# Shifting Pink Noise "
   ]
  },
  {
   "cell_type": "code",
   "execution_count": null,
   "id": "452e6439",
   "metadata": {},
   "outputs": [],
   "source": [
    "x_size = 256\n",
    "y_size = 256\n",
    "\n",
    "xx = np.linspace(-x_size / 2, x_size / 2, x_size)\n",
    "yy = np.linspace(-y_size / 2, y_size / 2, y_size)\n",
    "\n",
    "# Generating cloud image\n",
    "whitenoise = np.random.normal(0, 1, (y_size, x_size))\n",
    "ft_arr = find_ft(whitenoise)\n",
    "kernel = pink_filter_mask(xx, yy, factor=2.4)\n",
    "\n",
    "pink_ft_arr = ft_arr * kernel\n",
    "pink_noise = find_ift(pink_ft_arr).real\n",
    "\n",
    "# Shifting initial image\n",
    "dx = 25\n",
    "dy = 20\n",
    "\n",
    "x_mesh, y_mesh = np.meshgrid(xx, yy)\n",
    "shift = np.exp(-1j * 2 * np.pi  * (x_mesh * dx / y_size + y_mesh * dy / x_size));\n",
    "\n",
    "# Apply the phase shift along both axes\n",
    "f_freq_shifted = pink_ft_arr * shift\n",
    "shifted_pink_noise = find_ift(f_freq_shifted)\n",
    "\n",
    "f, (ax1, ax2) = plt.subplots(1, 2, sharey=True, figsize=(15, 15))\n",
    "ax1.imshow(pink_noise.real, cmap='gray')\n",
    "ax2.imshow(shifted_pink_noise.real, cmap='gray')\n"
   ]
  },
  {
   "cell_type": "code",
   "execution_count": null,
   "id": "646b688b",
   "metadata": {
    "scrolled": false
   },
   "outputs": [],
   "source": [
    "%matplotlib notebook\n",
    "\n",
    "# Generating cloud image\n",
    "whitenoise = np.random.normal(0, 1, (y_size, x_size))\n",
    "ft_arr = find_ft(whitenoise)\n",
    "kernel = pink_filter_mask(xx, yy, factor=2)\n",
    "\n",
    "pink_ft_arr = ft_arr * kernel\n",
    "pink_noise = find_ift(pink_ft_arr).real\n",
    "\n",
    "# Shift values\n",
    "dx = 25\n",
    "dy = 50\n",
    "\n",
    "# Shift values per one frame\n",
    "fps = 30\n",
    "seconds_num = 5\n",
    "dxx = dx / fps / seconds_num\n",
    "dyy = dy / fps / seconds_num\n",
    "\n",
    "x_mesh, y_mesh = np.meshgrid(xx, yy)\n",
    "shift = np.exp(-1j * 2 * np.pi  * (x_mesh * dxx / y_size + y_mesh * dyy / x_size));\n",
    "\n",
    "snapshots_freq = [pink_ft_arr]\n",
    "snapshots_spatial = [pink_noise]\n",
    "for _ in range(fps * seconds_num):\n",
    "    # print(np.sum(np.absolute(snapshots_freq[-1]) ** 2))\n",
    "    snapshots_freq.append(snapshots_freq[-1] * shift)\n",
    "    snapshots_spatial.append(find_ift(snapshots_freq[-1]).real)\n",
    "\n",
    "    \n",
    "fig = plt.figure(figsize=(8,8))\n",
    "frame = snapshots_spatial[0]\n",
    "im = plt.imshow(frame, interpolation='none', aspect='auto', cmap='gray')\n",
    "\n",
    "\n",
    "def animate_func(i):\n",
    "    im.set_array(snapshots_spatial[i])\n",
    "    plt.title(f\"X shift {i * dxx:.2f} \\n Y shift {i * dyy:.2f}\")\n",
    "    return [im]\n",
    "\n",
    "\n",
    "anim = animation.FuncAnimation(\n",
    "    fig, \n",
    "    animate_func, \n",
    "    frames = seconds_num * fps,\n",
    "    interval = 1000 / fps, # in ms\n",
    ")\n"
   ]
  },
  {
   "cell_type": "code",
   "execution_count": null,
   "id": "a7538121",
   "metadata": {},
   "outputs": [],
   "source": []
  }
 ],
 "metadata": {
  "kernelspec": {
   "display_name": "Python 3 (ipykernel)",
   "language": "python",
   "name": "python3"
  },
  "language_info": {
   "codemirror_mode": {
    "name": "ipython",
    "version": 3
   },
   "file_extension": ".py",
   "mimetype": "text/x-python",
   "name": "python",
   "nbconvert_exporter": "python",
   "pygments_lexer": "ipython3",
   "version": "3.10.6"
  }
 },
 "nbformat": 4,
 "nbformat_minor": 5
}
